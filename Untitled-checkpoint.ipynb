{
 "cells": [
  {
   "cell_type": "code",
   "execution_count": 1,
   "id": "47012b16-5112-4751-a52a-8ac37fa622bf",
   "metadata": {},
   "outputs": [
    {
     "ename": "ModuleNotFoundError",
     "evalue": "No module named 'streamlit'",
     "output_type": "error",
     "traceback": [
      "\u001b[1;31m---------------------------------------------------------------------------\u001b[0m",
      "\u001b[1;31mModuleNotFoundError\u001b[0m                       Traceback (most recent call last)",
      "Cell \u001b[1;32mIn[1], line 3\u001b[0m\n\u001b[0;32m      1\u001b[0m \u001b[38;5;66;03m# app.py\u001b[39;00m\n\u001b[1;32m----> 3\u001b[0m \u001b[38;5;28;01mimport\u001b[39;00m \u001b[38;5;21;01mstreamlit\u001b[39;00m \u001b[38;5;28;01mas\u001b[39;00m \u001b[38;5;21;01mst\u001b[39;00m\n\u001b[0;32m      4\u001b[0m \u001b[38;5;28;01mimport\u001b[39;00m \u001b[38;5;21;01mnumpy\u001b[39;00m \u001b[38;5;28;01mas\u001b[39;00m \u001b[38;5;21;01mnp\u001b[39;00m\n\u001b[0;32m      5\u001b[0m \u001b[38;5;28;01mimport\u001b[39;00m \u001b[38;5;21;01mcv2\u001b[39;00m\n",
      "\u001b[1;31mModuleNotFoundError\u001b[0m: No module named 'streamlit'"
     ]
    }
   ],
   "source": [
    "# app.py\n",
    "\n",
    "import streamlit as st\n",
    "import numpy as np\n",
    "import cv2\n",
    "import torch\n",
    "from PIL import Image\n",
    "import torchvision.transforms as transforms\n",
    "\n",
    "# Load your trained models (replace with your model loading code)\n",
    "nested_unet_model = torch.load('path/to/nested_unet_weights.pth')\n",
    "attention_unet_model = torch.load('path/to/attention_unet_weights.pth')\n",
    "\n",
    "# Set models to evaluation mode\n",
    "nested_unet_model.eval()\n",
    "attention_unet_model.eval()\n",
    "\n",
    "# Define preprocessing function\n",
    "def preprocess_image(image):\n",
    "    image = cv2.cvtColor(np.array(image), cv2.COLOR_RGB2BGR)\n",
    "    image = cv2.resize(image, (256, 256))  # Resize based on your model's input size\n",
    "    image = transforms.ToTensor()(image)\n",
    "    image = image.unsqueeze(0)  # Add batch dimension\n",
    "    return image\n",
    "\n",
    "# Define function for segmentation\n",
    "def segment_image(model, image_tensor):\n",
    "    with torch.no_grad():\n",
    "        output = model(image_tensor)\n",
    "    return output.argmax(dim=1).squeeze().numpy()\n",
    "\n",
    "# Streamlit UI\n",
    "st.title(\"Brain MRI Metastasis Segmentation\")\n",
    "st.write(\"Upload an MRI image to segment metastasis.\")\n",
    "\n",
    "uploaded_file = st.file_uploader(\"Choose an MRI image...\", type=[\"jpg\", \"jpeg\", \"png\"])\n",
    "\n",
    "if uploaded_file is not None:\n",
    "    # Load and preprocess image\n",
    "    image = Image.open(uploaded_file)\n",
    "    st.image(image, caption='Uploaded Image', use_column_width=True)\n",
    "\n",
    "    # Preprocess the image\n",
    "    image_tensor = preprocess_image(image)\n",
    "\n",
    "    # Segment using Nested U-Net\n",
    "    st.write(\"Segmenting using Nested U-Net...\")\n",
    "    nested_unet_output = segment_image(nested_unet_model, image_tensor)\n",
    "    st.image(nested_unet_output, caption='Nested U-Net Segmentation', use_column_width=True, clamp=True)\n",
    "\n",
    "    # Segment using Attention U-Net\n",
    "    st.write(\"Segmenting using Attention U-Net...\")\n",
    "    attention_unet_output = segment_image(attention_unet_model, image_tensor)\n",
    "    st.image(attention_unet_output, caption='Attention U-Net Segmentation', use_column_width=True, clamp=True)\n",
    "\n",
    "# Run the app with: streamlit run app.py\n"
   ]
  },
  {
   "cell_type": "code",
   "execution_count": 2,
   "id": "063ad7b3-bf67-4231-826c-50eeccc357e2",
   "metadata": {},
   "outputs": [
    {
     "ename": "SyntaxError",
     "evalue": "invalid syntax (2334867191.py, line 1)",
     "output_type": "error",
     "traceback": [
      "\u001b[1;36m  Cell \u001b[1;32mIn[2], line 1\u001b[1;36m\u001b[0m\n\u001b[1;33m    pip install streamlit\u001b[0m\n\u001b[1;37m        ^\u001b[0m\n\u001b[1;31mSyntaxError\u001b[0m\u001b[1;31m:\u001b[0m invalid syntax\n"
     ]
    }
   ],
   "source": [
    "pip install streamlit\n",
    "\n"
   ]
  },
  {
   "cell_type": "code",
   "execution_count": null,
   "id": "a7288119-7c68-41b4-bda3-a7b7836d4b84",
   "metadata": {},
   "outputs": [],
   "source": [
    "pip install streamlit"
   ]
  },
  {
   "cell_type": "code",
   "execution_count": null,
   "id": "9dddd85f-3f8d-4f45-8895-6983551f8274",
   "metadata": {},
   "outputs": [],
   "source": [
    "# app.py\n",
    "\n",
    "import streamlit as st\n",
    "import numpy as np\n",
    "import cv2\n",
    "import torch\n",
    "from PIL import Image\n",
    "import torchvision.transforms as transforms\n",
    "\n",
    "# Load your trained models (replace with your model loading code)\n",
    "nested_unet_model = torch.load('path/to/nested_unet_weights.pth')\n",
    "attention_unet_model = torch.load('path/to/attention_unet_weights.pth')\n",
    "\n",
    "# Set models to evaluation mode\n",
    "nested_unet_model.eval()\n",
    "attention_unet_model.eval()\n",
    "\n",
    "# Define preprocessing function\n",
    "def preprocess_image(image):\n",
    "    image = cv2.cvtColor(np.array(image), cv2.COLOR_RGB2BGR)\n",
    "    image = cv2.resize(image, (256, 256))  # Resize based on your model's input size\n",
    "    image = transforms.ToTensor()(image)\n",
    "    image = image.unsqueeze(0)  # Add batch dimension\n",
    "    return image\n",
    "\n",
    "# Define function for segmentation\n",
    "def segment_image(model, image_tensor):\n",
    "    with torch.no_grad():\n",
    "        output = model(image_tensor)\n",
    "    return output.argmax(dim=1).squeeze().numpy()\n",
    "\n",
    "# Streamlit UI\n",
    "st.title(\"Brain MRI Metastasis Segmentation\")\n",
    "st.write(\"Upload an MRI image to segment metastasis.\")\n",
    "\n",
    "uploaded_file = st.file_uploader(\"Choose an MRI image...\", type=[\"jpg\", \"jpeg\", \"png\"])\n",
    "\n",
    "if uploaded_file is not None:\n",
    "    # Load and preprocess image\n",
    "    image = Image.open(uploaded_file)\n",
    "    st.image(image, caption='Uploaded Image', use_column_width=True)\n",
    "\n",
    "    # Preprocess the image\n",
    "    image_tensor = preprocess_image(image)\n",
    "\n",
    "    # Segment using Nested U-Net\n",
    "    st.write(\"Segmenting using Nested U-Net...\")\n",
    "    nested_unet_output = segment_image(nested_unet_model, image_tensor)\n",
    "    st.image(nested_unet_output, caption='Nested U-Net Segmentation', use_column_width=True, clamp=True)\n",
    "\n",
    "    # Segment using Attention U-Net\n",
    "    st.write(\"Segmenting using Attention U-Net...\")\n",
    "    attention_unet_output = segment_image(attention_unet_model, image_tensor)\n",
    "    st.image(attention_unet_output, caption='Attention U-Net Segmentation', use_column_width=True, clamp=True)\n",
    "\n",
    "# Run the app with: streamlit run app.py\n"
   ]
  },
  {
   "cell_type": "code",
   "execution_count": null,
   "id": "eb86083b-8b92-4c1b-89e2-ef0ac0d7b72b",
   "metadata": {},
   "outputs": [],
   "source": [
    "streamlit run app.py"
   ]
  },
  {
   "cell_type": "code",
   "execution_count": null,
   "id": "0d55de04-12bc-4c08-a306-3a15c5ce98fb",
   "metadata": {},
   "outputs": [],
   "source": []
  }
 ],
 "metadata": {
  "kernelspec": {
   "display_name": "Python 3 (ipykernel)",
   "language": "python",
   "name": "python3"
  },
  "language_info": {
   "codemirror_mode": {
    "name": "ipython",
    "version": 3
   },
   "file_extension": ".py",
   "mimetype": "text/x-python",
   "name": "python",
   "nbconvert_exporter": "python",
   "pygments_lexer": "ipython3",
   "version": "3.12.6"
  }
 },
 "nbformat": 4,
 "nbformat_minor": 5
}
